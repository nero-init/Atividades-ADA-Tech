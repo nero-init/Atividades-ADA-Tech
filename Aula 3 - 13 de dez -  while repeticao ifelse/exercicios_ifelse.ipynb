{
 "cells": [
  {
   "cell_type": "markdown",
   "metadata": {},
   "source": [
    "# Lógica de Programação I - Exercícios IF ELSE"
   ]
  },
  {
   "cell_type": "markdown",
   "metadata": {},
   "source": [
    "1. Peça ao usuário para informar 4 lados consecutivos de um polígono. Veja se é um quadrado ou retâgulo, ou nenhum.\n",
    "Caso seja quadrado ou retângulo, imprima a área calculada."
   ]
  },
  {
   "cell_type": "code",
   "execution_count": null,
   "metadata": {},
   "outputs": [],
   "source": [
    "#Input dos quatro valores\n",
    "lado1 = float(input(\"Digite o primeiro valor do polígono.\")) \n",
    "lado2 = float(input(\"Digite o segundo valor do polígono.\"))\n",
    "lado3 = float(input(\"Digite o terceiro valor do polígono.\"))\n",
    "lado4 = float(input(\"Digite o quarto valor do polígono.\"))\n",
    "\n",
    "#Verificação do tipo\n",
    "if lado1 == lado2 == lado3 == lado4:\n",
    "    print(\"É um quadrado\")\n",
    "    area = lado1 ** 2\n",
    "elif lado1 == lado3 and lado2 == lado4:\n",
    "    print(\"É um retâgulo\")\n",
    "    area = lado1 * lado2\n",
    "else:\n",
    "    print(\"Não é quadrado e nem retângulo\")\n",
    "    area = None\n",
    "\n",
    "if area is not None:\n",
    "    print(f\"A área do polígono é: {area}\")"
   ]
  },
  {
   "cell_type": "markdown",
   "metadata": {},
   "source": [
    "2. Pergunte ao usuário o valor de um produto, e se ele quer aumentar ou diminuir o preço.\n",
    "Pergunte ao usuário o quanto que ele gostaria de diminuir ou acrescentar, em porcentagem, e calcule o novo preço do produto para o usuário."
   ]
  },
  {
   "cell_type": "code",
   "execution_count": null,
   "metadata": {
    "ExecuteTime": {
     "end_time": "2023-06-30T11:59:29.564669Z",
     "start_time": "2023-06-30T11:59:26.316079Z"
    }
   },
   "outputs": [],
   "source": [
    "#Input do valor \n",
    "valor = float(input(\"Digite o valor do pão de queijo: \"))\n",
    "if valor <= 0:\n",
    "    float(input(\"Digite um valor válido do pão de queijo: \"))\n",
    "#input pra saber se quer aumentar ou diminuit\n",
    "else:\n",
    "    ajustepreco = str(input(\"Agora me diga se quer Aumentar (a) ou Diminuir (d) este valor\")).lower()\n",
    "    porcentagem =  float(input(\"Digite o valor para a porcentagem deste valor\"))\n",
    "\n",
    "\n",
    "\n",
    "if ajustepreco == \"a\":\n",
    "    calculo = valor * (porcentagem / 100)\n",
    "    valorfinal = valor + calculo\n",
    "elif ajustepreco == \"d\":\n",
    "    calculo = valor * (porcentagem / 100)\n",
    "    valorfinal = valor - calculo\n",
    "\n",
    "print(f'O novo preço do Pão de Queijo é {valorfinal}')\n",
    "    \n",
    "\n"
   ]
  },
  {
   "cell_type": "markdown",
   "metadata": {},
   "source": [
    "3. Faça um programa que pergunte 4 notas de provas de um aluno, caso a média seja maior ou igual a 6 ele está aprovado, caso seja maior que 5, ele está de recuperação, pergunte a nota da prova de recuperação, caso a média da nota de recuperação com a média das provas seja maior que 6, ele está aprovado, se não reprovado.\n",
    "Caso a média das 4 provas seja menor ou igual a 5 ele está reprovado direto."
   ]
  },
  {
   "cell_type": "code",
   "execution_count": null,
   "metadata": {
    "ExecuteTime": {
     "end_time": "2023-06-30T12:07:17.661704Z",
     "start_time": "2023-06-30T12:07:11.534213Z"
    }
   },
   "outputs": [],
   "source": [
    "# Input das notas\n",
    "nota1 = float(input(\"Digite a nota da primeira prova: \"))\n",
    "nota2 = float(input(\"Digite a nota da segunda prova: \"))\n",
    "nota3 = float(input(\"Digite a nota da terceira prova: \"))\n",
    "nota4 = float(input(\"Digite a nota da quarta prova: \"))\n",
    "\n",
    "# Conferir média\n",
    "media_provas = (nota1 + nota2 + nota3 + nota4) / 4\n",
    "\n",
    "# Verificação dos critérios\n",
    "if media_provas >= 6:\n",
    "    print(f\"Parabéns, você foi aprovado! Sua média foi: {media_provas}\")\n",
    "elif media_provas <= 5:\n",
    "    print(f\"Você está de recuperação. Sua média foi: {media_provas}\")\n",
    "\n",
    "    # Input da nota de recuperação\n",
    "    recuperacao = float(input(\"Qual a nota obtida na recuperação?\"))\n",
    "\n",
    "    # Cálculo da média com a nota de recuperação\n",
    "    reteste = media_provas + recuperacao\n",
    "\n",
    "    # Verificação após a recuperação\n",
    "    if reteste >= 6:\n",
    "        print(f\"Parabéns, você foi aprovado após a recuperação! Sua média final foi: {reteste}\")\n",
    "    else:\n",
    "        print(f\"Ops, você foi reprovado mesmo após a recuperação. Sua média final foi: {reteste}\")\n",
    "\n",
    "\n"
   ]
  },
  {
   "cell_type": "markdown",
   "metadata": {},
   "source": [
    "4. Pergunte ao usuário que horas são, somente número inteiro, e retorne \"Bom dia!\", caso seja entre 5 horas e 11 horas da manhã, \"Boa tarde!\", caso seja entre 12 horas e 18 horas da tarde, e \"Boa noite!\", caso seja entre 19 horas e 4 horas da manhã."
   ]
  },
  {
   "cell_type": "code",
   "execution_count": 8,
   "metadata": {
    "ExecuteTime": {
     "end_time": "2023-06-30T12:09:54.126013Z",
     "start_time": "2023-06-30T12:09:52.435107Z"
    }
   },
   "outputs": [
    {
     "name": "stdout",
     "output_type": "stream",
     "text": [
      "Boa noite!\n"
     ]
    }
   ],
   "source": [
    "hora = int(input('Que horas são?'))\n",
    "\n",
    "if 5 <= hora <= 11:\n",
    "    print(\"Bom dia!\")\n",
    "elif 12 <= hora <= 18:\n",
    "    print(\"Boa tarde!\")\n",
    "elif 19 <= hora <= 23 or 0 <= hora <= 4:\n",
    "    print(\"Boa noite!\")\n",
    "else:\n",
    "    print(\"Não entendi, digite apenas as horas sem os minutos (XX)!\")\n"
   ]
  },
  {
   "cell_type": "markdown",
   "metadata": {},
   "source": [
    "5. Peça o usuário para digitar um número, informe se o número é divisivel por 5, caso seja, informe se o número é par ou impar."
   ]
  },
  {
   "cell_type": "code",
   "execution_count": null,
   "metadata": {
    "ExecuteTime": {
     "end_time": "2023-06-30T12:12:34.437082Z",
     "start_time": "2023-06-30T12:12:33.574849Z"
    }
   },
   "outputs": [],
   "source": [
    "\n",
    "numero = int(input(\"Digite um número: \"))\n",
    "\n",
    "# Verifica se o número é divisível por 5\n",
    "if numero % 5 == 0:\n",
    "    print(f\"O número {numero} é divisível por 5.\")\n",
    "\n",
    "    # Verifica se o número é par ou ímpar\n",
    "    if numero % 2 == 0:\n",
    "        print(f\"Além disso, o número {numero} é par.\")\n",
    "    else:\n",
    "        print(f\"Além disso, o número {numero} é ímpar.\")\n",
    "else:\n",
    "    print(f\"O número {numero} não é divisível por 5.\")"
   ]
  }
 ],
 "metadata": {
  "kernelspec": {
   "display_name": "Python 3 (ipykernel)",
   "language": "python",
   "name": "python3"
  },
  "language_info": {
   "codemirror_mode": {
    "name": "ipython",
    "version": 3
   },
   "file_extension": ".py",
   "mimetype": "text/x-python",
   "name": "python",
   "nbconvert_exporter": "python",
   "pygments_lexer": "ipython3",
   "version": "3.10.4"
  },
  "latex_envs": {
   "LaTeX_envs_menu_present": true,
   "autoclose": false,
   "autocomplete": true,
   "bibliofile": "biblio.bib",
   "cite_by": "apalike",
   "current_citInitial": 1,
   "eqLabelWithNumbers": true,
   "eqNumInitial": 1,
   "hotkeys": {
    "equation": "Ctrl-E",
    "itemize": "Ctrl-I"
   },
   "labels_anchors": false,
   "latex_user_defs": false,
   "report_style_numbering": false,
   "user_envs_cfg": false
  },
  "toc": {
   "base_numbering": 1,
   "nav_menu": {},
   "number_sections": true,
   "sideBar": true,
   "skip_h1_title": false,
   "title_cell": "Table of Contents",
   "title_sidebar": "Contents",
   "toc_cell": false,
   "toc_position": {},
   "toc_section_display": true,
   "toc_window_display": false
  },
  "varInspector": {
   "cols": {
    "lenName": 16,
    "lenType": 16,
    "lenVar": 40
   },
   "kernels_config": {
    "python": {
     "delete_cmd_postfix": "",
     "delete_cmd_prefix": "del ",
     "library": "var_list.py",
     "varRefreshCmd": "print(var_dic_list())"
    },
    "r": {
     "delete_cmd_postfix": ") ",
     "delete_cmd_prefix": "rm(",
     "library": "var_list.r",
     "varRefreshCmd": "cat(var_dic_list()) "
    }
   },
   "types_to_exclude": [
    "module",
    "function",
    "builtin_function_or_method",
    "instance",
    "_Feature"
   ],
   "window_display": false
  },
  "vscode": {
   "interpreter": {
    "hash": "7f52069df51f55474cef70a04f6de2c8e83f851022777c4983d9d0bb63ea6184"
   }
  }
 },
 "nbformat": 4,
 "nbformat_minor": 2
}
