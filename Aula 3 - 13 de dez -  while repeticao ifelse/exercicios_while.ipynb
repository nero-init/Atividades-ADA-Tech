{
 "cells": [
  {
   "cell_type": "markdown",
   "metadata": {},
   "source": [
    "# Lógica de Programação I - WHILE"
   ]
  },
  {
   "cell_type": "markdown",
   "metadata": {},
   "source": [
    "1. Pergunte um usuário quantas provas ele fez, depois pergunte a nota de todas as provas.\n",
    "Calcule a média e caso seja maior ou igual a 6 informe que ele está aprovado, se não reprovado."
   ]
  },
  {
   "cell_type": "code",
   "execution_count": null,
   "metadata": {},
   "outputs": [],
   "source": [
    "num_provas = int(input(\"Quantas provas você fez? \"))\n",
    "\n",
    "soma_notas = 0\n",
    "\n",
    "for i in range(1, num_provas + 1):\n",
    "    nota = float(input(f\"Informe a nota da prova {i}: \"))\n",
    "    soma_notas += nota\n",
    "\n",
    "media = soma_notas / num_provas\n",
    "\n",
    "if media >= 6:\n",
    "    print(f\"Parabéns! Sua média é {media:.2f}. Você está aprovado!\")\n",
    "else:\n",
    "    print(f\"Sua média é {media:.2f}. Infelizmente, você está reprovado.\")\n"
   ]
  },
  {
   "cell_type": "markdown",
   "metadata": {},
   "source": [
    "2. Faça um programa que o usuário digite quantos números quiser, ate que digite sair.\n",
    "Retorne a soma e a média dos números digitados."
   ]
  },
  {
   "cell_type": "code",
   "execution_count": 1,
   "metadata": {},
   "outputs": [
    {
     "name": "stdout",
     "output_type": "stream",
     "text": [
      "\n",
      "Soma dos números: 23.0\n",
      "Média dos números: 5.75\n"
     ]
    }
   ],
   "source": [
    "soma = 0\n",
    "contador = 0\n",
    "palavra = ''\n",
    "\n",
    "while palavra != 'sair':\n",
    "    palavra = input(\"Digite alguns números (use 'sair' para encerrar): \")\n",
    "    \n",
    "    if palavra.isdigit():\n",
    "        numero = float(palavra)\n",
    "        soma += numero\n",
    "        contador += 1\n",
    "\n",
    "if contador > 0:\n",
    "    media = soma / contador\n",
    "    print(f\"\\nSoma dos números: {soma}\")\n",
    "    print(f\"Média dos números: {media}\")\n",
    "else:\n",
    "    print(\"Nenhum número foi digitado.\")\n"
   ]
  },
  {
   "cell_type": "markdown",
   "metadata": {},
   "source": [
    "3. Usando laço, pergunte um usuário a nota de 3 provas. Remova a menor nota e calcule a média das notas que ele atingiu. "
   ]
  },
  {
   "cell_type": "code",
   "execution_count": null,
   "metadata": {},
   "outputs": [],
   "source": [
    "notas = []\n",
    "\n",
    "#  3 provas\n",
    "for i in range(3):\n",
    "    nota = float(input(f\"Informe a nota da prova {i + 1}: \"))\n",
    "    notas.append(nota)\n",
    "\n",
    "#print(notas)\n",
    "notas.remove(min(notas)) #alterar a variavel notas\n",
    "\n",
    "\n",
    "#print(notas)\n",
    "media = sum(notas) / len(notas) \n",
    "\n",
    "print(f\"\\nNotas consideradas: {notas}\")\n",
    "print(f\"Média das notas: {media:.2f}\")\n"
   ]
  },
  {
   "cell_type": "markdown",
   "metadata": {},
   "source": [
    "4. Pergunte o usuário 2 números inteiros, calcule quantos números pares existem entre os 2 número informados.\n",
    "Exemplo: se ele digitar 1 e 9, tem 4 números pares entre esses números 2,4,6,8 ."
   ]
  },
  {
   "cell_type": "code",
   "execution_count": 6,
   "metadata": {},
   "outputs": [
    {
     "name": "stdout",
     "output_type": "stream",
     "text": [
      "\n",
      "Tem 4 números pares entre esses números 2, 4, 6, 8, e a soma é 20.\n"
     ]
    }
   ],
   "source": [
    "numero1 = int(input(\"Digite o primeiro número inteiro: \"))\n",
    "numero2 = int(input(\"Digite o segundo número inteiro: \"))\n",
    "\n",
    "soma_pares = 0\n",
    "numeros_pares = []\n",
    "\n",
    "for numero in range(numero1, numero2 + 1):\n",
    "    if numero % 2 == 0:\n",
    "        soma_pares += numero\n",
    "        numeros_pares.append(numero)\n",
    "\n",
    "print(f\"\\nTem {len(numeros_pares)} números pares entre esses números {', '.join(map(str, numeros_pares))}, e a soma é {soma_pares}.\")\n"
   ]
  },
  {
   "cell_type": "markdown",
   "metadata": {},
   "source": [
    "5. Pergunte o usuário 2 números inteiros, calcule a soma de todos os números ímpares inteiros entre esses números.\n",
    "Exemplo: se ele digitar 1 e 9, tem 5 números ímpares entre esses números 1,3,5,7,9, e a soma é 25 ."
   ]
  },
  {
   "cell_type": "code",
   "execution_count": 5,
   "metadata": {},
   "outputs": [
    {
     "name": "stdout",
     "output_type": "stream",
     "text": [
      "\n",
      "Tem 5 números ímpares entre esses números 1,3,5,7,9, e a soma é 25.\n"
     ]
    }
   ],
   "source": [
    "numero1 = int(input(\"Digite o primeiro número inteiro: \"))\n",
    "numero2 = int(input(\"Digite o segundo número inteiro: \"))\n",
    "\n",
    "soma_impares = 0\n",
    "numeros_impares = []\n",
    "\n",
    "for numero in range(numero1, numero2 + 1):\n",
    "    if numero % 2 != 0:\n",
    "        soma_impares += numero\n",
    "        numeros_impares.append(numero)\n",
    "\n",
    "\n",
    "print(f\"\\nTem {len(numeros_impares)} números ímpares entre esses números {','.join(map(str, numeros_impares))}, e a soma é {soma_impares}.\")\n"
   ]
  }
 ],
 "metadata": {
  "kernelspec": {
   "display_name": "Python 3 (ipykernel)",
   "language": "python",
   "name": "python3"
  },
  "language_info": {
   "codemirror_mode": {
    "name": "ipython",
    "version": 3
   },
   "file_extension": ".py",
   "mimetype": "text/x-python",
   "name": "python",
   "nbconvert_exporter": "python",
   "pygments_lexer": "ipython3",
   "version": "3.10.4"
  },
  "latex_envs": {
   "LaTeX_envs_menu_present": true,
   "autoclose": false,
   "autocomplete": true,
   "bibliofile": "biblio.bib",
   "cite_by": "apalike",
   "current_citInitial": 1,
   "eqLabelWithNumbers": true,
   "eqNumInitial": 1,
   "hotkeys": {
    "equation": "Ctrl-E",
    "itemize": "Ctrl-I"
   },
   "labels_anchors": false,
   "latex_user_defs": false,
   "report_style_numbering": false,
   "user_envs_cfg": false
  },
  "toc": {
   "base_numbering": 1,
   "nav_menu": {},
   "number_sections": true,
   "sideBar": true,
   "skip_h1_title": false,
   "title_cell": "Table of Contents",
   "title_sidebar": "Contents",
   "toc_cell": false,
   "toc_position": {},
   "toc_section_display": true,
   "toc_window_display": false
  },
  "varInspector": {
   "cols": {
    "lenName": 16,
    "lenType": 16,
    "lenVar": 40
   },
   "kernels_config": {
    "python": {
     "delete_cmd_postfix": "",
     "delete_cmd_prefix": "del ",
     "library": "var_list.py",
     "varRefreshCmd": "print(var_dic_list())"
    },
    "r": {
     "delete_cmd_postfix": ") ",
     "delete_cmd_prefix": "rm(",
     "library": "var_list.r",
     "varRefreshCmd": "cat(var_dic_list()) "
    }
   },
   "types_to_exclude": [
    "module",
    "function",
    "builtin_function_or_method",
    "instance",
    "_Feature"
   ],
   "window_display": false
  },
  "vscode": {
   "interpreter": {
    "hash": "7f52069df51f55474cef70a04f6de2c8e83f851022777c4983d9d0bb63ea6184"
   }
  }
 },
 "nbformat": 4,
 "nbformat_minor": 2
}
