{
 "cells": [
  {
   "cell_type": "markdown",
   "metadata": {},
   "source": [
    "# Lógica de Programação I - Estruturas de Repetição"
   ]
  },
  {
   "cell_type": "markdown",
   "metadata": {},
   "source": [
    "__Obs.__: SEMPRE que eu trabalho com estrutura de repetição (WHILE - ENQUANTO) é NECESSÁRIO que a condição seja alterada dentro do while, SENAO entro em looping infinito"
   ]
  },
  {
   "cell_type": "code",
   "execution_count": null,
   "metadata": {
    "ExecuteTime": {
     "end_time": "2023-06-28T22:45:14.317035Z",
     "start_time": "2023-06-28T22:45:12.520055Z"
    }
   },
   "outputs": [],
   "source": [
    "# while condicao_for_verdadeira:\n",
    "#     executa_qualquer_coisa_aqui\n",
    "\n",
    "# Caso a condicao seja falsa antes de executar o while, ela não irá entrar nele"
   ]
  },
  {
   "cell_type": "code",
   "execution_count": null,
   "metadata": {},
   "outputs": [],
   "source": [
    "quantidade_horas_trabalhadas = input('Digite as suas horas trabalhadas')\n",
    "valor_decimal = quantidade_horas_trabalhadas.isdecimal()\n",
    "\n",
    "print('Valor decimal:', valor_decimal)\n",
    "\n",
    "# Condicao verdadeira entra no while, False sai\n",
    "while not valor_decimal:\n",
    "    print('Valor incorreto, digite um número inteiro')\n",
    "\n",
    "    quantidade_horas_trabalhadas = input('Digite as suas horas trabalhadas')\n",
    "    valor_decimal = quantidade_horas_trabalhadas.isdecimal()\n",
    "    print('Vou sempre ser executado')\n",
    "\n",
    "print('Sai da execução')"
   ]
  },
  {
   "cell_type": "code",
   "execution_count": null,
   "metadata": {},
   "outputs": [],
   "source": [
    "# Loop infinito - Trado\n",
    "quantidade_horas_trabalhadas = 0\n",
    "\n",
    "while True:\n",
    "    print('Loop infinito')\n",
    "\n",
    "    quantidade_horas_trabalhadas = input('Digite as suas horas trabalhadas')\n",
    "    valor_decimal = quantidade_horas_trabalhadas.isdecimal()\n",
    "\n",
    "    if valor_decimal:\n",
    "        break\n",
    "\n",
    "print('Terminei a exeução. Suas horas trabalhadas são', quantidade_horas_trabalhadas)"
   ]
  },
  {
   "cell_type": "markdown",
   "metadata": {},
   "source": [
    "### Comandos de manipulação de fluxo"
   ]
  },
  {
   "cell_type": "markdown",
   "metadata": {},
   "source": [
    "- break: para o fluxo (loop) IF\n",
    "- continue: executar a próxima chamada do while, ignorando o que está abaixo\n",
    "- pass: Não fazer nada"
   ]
  },
  {
   "cell_type": "code",
   "execution_count": null,
   "metadata": {},
   "outputs": [],
   "source": [
    "quantidade_horas_trabalhadas = input('Digite as suas horas trabalhadas')\n",
    "valor_decimal = quantidade_horas_trabalhadas.isdecimal()\n",
    "\n",
    "if valor_decimal:\n",
    "    pass\n",
    "\n",
    "print('Finalizado!')"
   ]
  },
  {
   "cell_type": "code",
   "execution_count": null,
   "metadata": {},
   "outputs": [],
   "source": [
    "input_improprio = 'asd'\n",
    "\n",
    "while True:\n",
    "    comando = input('Digite um comando:')\n",
    "\n",
    "    if comando == input_improprio:\n",
    "        continue\n",
    "    \n",
    "    print('Você digitou: ', comando)\n",
    "\n",
    "    if comando == 'sair':\n",
    "        print(\"parei\")\n",
    "        break # parece com o return (função)\n",
    "        print(\"Não serei printado\")\n"
   ]
  },
  {
   "cell_type": "markdown",
   "metadata": {},
   "source": [
    "__Exemplo:__ Some todos os números de 0 a um número digitado pelo usuário"
   ]
  },
  {
   "cell_type": "code",
   "execution_count": null,
   "metadata": {},
   "outputs": [],
   "source": [
    "# Se digitarmos 4\n",
    "# 0 + 1 + 2 + 3 + 4 = 10\n",
    "\n",
    "# Se digitarmos 3\n",
    "# 0 + 1 + 2 + 3 = 6"
   ]
  },
  {
   "cell_type": "code",
   "execution_count": null,
   "metadata": {},
   "outputs": [],
   "source": [
    "numero = input('Digite um número INTEIRO e POSITIVO:')\n",
    "\n",
    "while not numero.isdecimal():\n",
    "    print('Digite um número INTEIRO e POSITIVO')\n",
    "\n",
    "    numero = input('Digite um número INTEIRO e POSITIVO:')"
   ]
  },
  {
   "cell_type": "code",
   "execution_count": null,
   "metadata": {},
   "outputs": [],
   "source": [
    "condicao_decimal = True\n",
    "numero = '' # SEMPRE INICIALIZE UMA VARIAVEL QUE É APENAS CRIADA DENTRO DO WHILE/IF\n",
    "# numero = None\n",
    "# numero = 0\n",
    "# numero = -1\n",
    "\n",
    "while condicao_decimal:\n",
    "    numero = input('Digite um número INTEIRO e POSITIVO:')\n",
    "\n",
    "    if numero.isdecimal():\n",
    "        condicao_decimal = False\n",
    "    else:\n",
    "        print('Digite um número INTEIRO e POSITIVO')\n",
    "\n",
    "numero = int(numero)\n",
    "print('Número digitado:', numero)\n",
    "\n",
    "# Copiando apenas o valor\n",
    "auxiliar = numero\n",
    "soma = 0\n",
    "\n",
    "while auxiliar > 0:\n",
    "    soma += auxiliar\n",
    "    auxiliar -= 1\n",
    "\n",
    "print(f'A soma de 0 a {numero} é: {soma}')"
   ]
  },
  {
   "cell_type": "markdown",
   "metadata": {},
   "source": [
    "**WHILE ELSE**"
   ]
  },
  {
   "cell_type": "code",
   "execution_count": null,
   "metadata": {},
   "outputs": [],
   "source": [
    "qtd_tentativas = 0\n",
    "\n",
    "while qtd_tentativas < 5:\n",
    "    numero = input('Digite um número INTEIRO e POSITIVO:')\n",
    "\n",
    "    if numero.isdecimal():\n",
    "        break\n",
    "    else:\n",
    "        print('Digite um número INTEIRO e POSITIVO')\n",
    "    \n",
    "    qtd_tentativas += 1\n",
    "else:\n",
    "    print('Acabaram as tentativas. Programa encerrado!')\n",
    "\n",
    "print('Finalizando o programa...')"
   ]
  },
  {
   "cell_type": "code",
   "execution_count": null,
   "metadata": {},
   "outputs": [],
   "source": []
  },
  {
   "cell_type": "markdown",
   "metadata": {},
   "source": [
    "### Bora praticar!"
   ]
  },
  {
   "cell_type": "markdown",
   "metadata": {},
   "source": [
    "1) Escreva um programa que solicite um número inteiro e imprima na tela todos os números de 1 até o número digitado, separado por espaços.  \n",
    "_Exemplo_  \n",
    "número digitado: 5  \n",
    "resultado esperado: 1 2 3 4 5"
   ]
  },
  {
   "cell_type": "code",
   "execution_count": null,
   "metadata": {},
   "outputs": [],
   "source": [
    "# Concatenar string apenas com outra string\n",
    "# '' + 1\n",
    "# 1 + ''"
   ]
  },
  {
   "cell_type": "code",
   "execution_count": null,
   "metadata": {},
   "outputs": [],
   "source": [
    "numero_digitado = int(input(\"Digite um número: \"))\n",
    "numero_atual = 0 #quero que ele comece do 0\n",
    "todos_os_numeros = \"\"\n",
    "\n",
    "\n",
    "while numero_atual <= numero_digitado:\n",
    "    todos_os_numeros += str(numero_atual) +  \" \" #separador por numero\n",
    "    numero_atual += 1\n",
    "print(todos_os_numeros)"
   ]
  },
  {
   "cell_type": "code",
   "execution_count": null,
   "metadata": {
    "ExecuteTime": {
     "end_time": "2023-06-29T14:06:46.644419Z",
     "start_time": "2023-06-29T14:06:44.963687Z"
    }
   },
   "outputs": [],
   "source": [
    "num = int(input(\"Insira um número inteiro: \"))\n",
    "i = 1 #meu primeiro numero\n",
    "a = \"\" #lista que vai sequenciar até o num\n",
    "\n",
    "while i <= num:\n",
    "    a += (str(i) + ' ')\n",
    "    i += 1 #meu contador\n",
    "\n",
    "print(f'A sequência até o número {num}:\\n{a}')\n"
   ]
  },
  {
   "cell_type": "markdown",
   "metadata": {},
   "source": [
    "2) Faça um programa que mostre o fatorial de um número digitado.  \n",
    "_Exemplo_  \n",
    "número digitado: 5  \n",
    "resultado esperado: 120"
   ]
  },
  {
   "cell_type": "code",
   "execution_count": null,
   "metadata": {},
   "outputs": [],
   "source": [
    "contador = True # 1\n",
    "# False: 0\n",
    "\n",
    "print(contador + 1)"
   ]
  },
  {
   "cell_type": "code",
   "execution_count": null,
   "metadata": {},
   "outputs": [],
   "source": [
    "# 1! = 1\n",
    "# 2! = 2 * 1\n",
    "# 3! = 3 * 2 * 1\n",
    "# ...\n",
    "\n",
    "# 4! = 4 * 3!\n",
    "# 4! = 4 * 3 * 2!\n",
    "# 4! = 4 * 3 * 2 * 1"
   ]
  },
  {
   "cell_type": "code",
   "execution_count": null,
   "metadata": {
    "ExecuteTime": {
     "end_time": "2023-06-29T14:07:02.010602Z",
     "start_time": "2023-06-29T14:07:01.444374Z"
    }
   },
   "outputs": [],
   "source": [
    "# Remyalisson J9:09 PM\n",
    "# #2\n",
    "while True:\n",
    "    fatorial = int(input(\"Digite um numero para obter o fatorial: \"))\n",
    "\n",
    "    if fatorial < 0:\n",
    "        print(\"Digite um numero INTEIRO e POSITIVO. \")\n",
    "        fatorial = int(input(\"Digite um numero para obter o fatorial: \"))\n",
    "    elif fatorial == 0:\n",
    "        print(\"Digite um numero DIFERENTE de 0.\")\n",
    "        fatorial = int(input(\"Digite um numero para obter o fatorial: \"))\n",
    "    else:\n",
    "        resultado = 1\n",
    "        contador = 1\n",
    "        while contador <= fatorial:\n",
    "            resultado *= contador\n",
    "            contador += 1\n",
    "            print(f\"O fatorial de {fatorial} é {resultado}\")\n",
    "        break\n"
   ]
  },
  {
   "cell_type": "markdown",
   "metadata": {},
   "source": [
    "3) Faça um programa que imprima a tabuada do 9 na tela (entre 1 e 10). Insira a conta, por exemplo, 9 * 1 = 9, sendo cada um dos valores em uma linha diferente."
   ]
  },
  {
   "cell_type": "code",
   "execution_count": null,
   "metadata": {
    "ExecuteTime": {
     "end_time": "2023-06-29T14:07:36.887441Z",
     "start_time": "2023-06-29T14:07:32.988688Z"
    }
   },
   "outputs": [],
   "source": [
    "\n",
    "# Thaisa Elvas9:20 PM\n",
    "i = 1\n",
    "\n",
    "while i <= 10:\n",
    "  print(f'9 * {i} = {9 * i}')\n",
    "  i += 1\n"
   ]
  },
  {
   "cell_type": "markdown",
   "metadata": {},
   "source": [
    "4) Faça um programa em que o usuário digite números quaisquer que encerrará no momento em que o valor 0 seja digitado. Ao final diga qual foi o maior número digitado."
   ]
  },
  {
   "cell_type": "code",
   "execution_count": null,
   "metadata": {},
   "outputs": [],
   "source": [
    "numero = int(input('Insira um número qualquer: ')) #10\n",
    "maior_numero = 0\n",
    "\n",
    "while numero != 0:\n",
    "    if numero > maior_numero: # 10 > 0  | 10 > 10\n",
    "        maior_numero = numero # maior_numero = 10\n",
    "    else:\n",
    "        numero = int(input('Insira um número qualquer: ')) # | numero\n",
    "print(maior_numero)"
   ]
  },
  {
   "cell_type": "markdown",
   "metadata": {},
   "source": [
    "5. Faça um script que peça para o usuário digitar a idade, o salário e o sexo de uma pessoa até que as entradas digitadas sejam válidas.  \n",
    "  \n",
    "a. Idade: entre 0 e 150  \n",
    "b. Salário: maior que 0  \n",
    "c. Gênero: M, F ou Outro  \n",
    "  \n",
    "Por último imprima os dados recebidos do usuário."
   ]
  },
  {
   "cell_type": "code",
   "execution_count": null,
   "metadata": {},
   "outputs": [],
   "source": [
    "genero = 'M'\n",
    "print(not (genero == 'M' or genero == 'F' or genero == 'Outro'))"
   ]
  },
  {
   "cell_type": "code",
   "execution_count": null,
   "metadata": {
    "ExecuteTime": {
     "end_time": "2023-06-29T14:09:36.391705Z",
     "start_time": "2023-06-29T14:09:29.824717Z"
    }
   },
   "outputs": [],
   "source": [
    "idade = input(\"Me diga a idade: \")\n",
    "if not (0 <= int(idade) <= 150):\n",
    "    idade_valida = False\n",
    "    print(\"Idade Inválida\")\n",
    "else:\n",
    "    idade_valida = True\n",
    "\n",
    "salario = input(\"Me diga o salário: \")\n",
    "if int(salario) < 0:\n",
    "    salario_valido = False\n",
    "    print(\"Salário Inválido\")\n",
    "else:\n",
    "    salario_valido = True\n",
    "\n",
    "sexo = input(\"Me diga o sexo (M, F ou Outro): \").upper()\n",
    "if sexo != \"M\" and sexo != \"F\" and sexo != \"OUTRO\":\n",
    "    sexo_valido = False\n",
    "    print(\"Sexo Inválido\")\n",
    "else:\n",
    "    sexo_valido = True\n",
    "\n",
    "if idade_valida and salario_valido and sexo_valido:\n",
    "    print(\"Cadastro concluído com sucesso.\")\n",
    "    print(f'Idade:', idade,\"\\n\" 'Salário:', salario,\"\\n\" 'Gênero:', sexo )\n",
    "else:\n",
    "    print(\"Dados incorretos.\")\n"
   ]
  },
  {
   "cell_type": "markdown",
   "metadata": {},
   "source": [
    "6) Faça uma calculadora. O usuário deve inserir qual a operação matemática ele deseja realizar e logo em seguida os dois números. O programa deve finalizar apenas quando o usuário digitar a opção \"sair\" no momento de escolha da operação matemática."
   ]
  },
  {
   "cell_type": "code",
   "execution_count": null,
   "metadata": {
    "ExecuteTime": {
     "end_time": "2023-06-29T01:02:38.629837Z",
     "start_time": "2023-06-29T01:02:33.805648Z"
    }
   },
   "outputs": [],
   "source": [
    "while True:\n",
    "    operacao = input(\"Escolha a operação (soma, subtracao, multiplicacao, divisao) ou digite 'sair' para encerrar: \")\n",
    "\n",
    "    # Verifica se o usuário deseja sair\n",
    "    if operacao.lower() == 'sair':\n",
    "        print(\"Calculadora encerrada. Até mais!\")\n",
    "        break\n",
    "\n",
    "    # Verifica se a operação é válida\n",
    "    if operacao not in ['soma', 'subtracao', 'multiplicacao', 'divisao']:\n",
    "        print(\"Operação inválida. Por favor, escolha uma operação válida.\")\n",
    "        continue\n",
    "\n",
    "    # Solicitação dos dois números\n",
    "    try:\n",
    "        numero1 = float(input(\"Digite o primeiro número: \"))\n",
    "        numero2 = float(input(\"Digite o segundo número: \"))\n",
    "    except ValueError:\n",
    "        print(\"Por favor, insira números válidos.\")\n",
    "        continue\n",
    "\n",
    "    # Realiza a operação escolhida e exibe o resultado\n",
    "    if operacao == 'soma':\n",
    "        resultado = numero1 + numero2\n",
    "    elif operacao == 'subtracao':\n",
    "        resultado = numero1 - numero2\n",
    "    elif operacao == 'multiplicacao':\n",
    "        resultado = numero1 * numero2\n",
    "    elif operacao == 'divisao':\n",
    "        if numero2 != 0:\n",
    "            resultado = numero1 / numero2\n",
    "        else:\n",
    "            print(\"Erro: Divisão por zero.\")\n",
    "            continue\n",
    "\n",
    "    print(f\"Resultado da {operacao}: {resultado}\")"
   ]
  },
  {
   "cell_type": "markdown",
   "metadata": {},
   "source": [
    "7. Efetue a soma dos **números pares** de 1 a 100 (USANDO LOOP WHILE)"
   ]
  },
  {
   "cell_type": "code",
   "execution_count": 84,
   "metadata": {},
   "outputs": [
    {
     "name": "stdout",
     "output_type": "stream",
     "text": [
      "A soma de pares de 1 a 100 é: 2550\n"
     ]
    }
   ],
   "source": [
    "soma = 0\n",
    "i = 2\n",
    "\n",
    "while i <= 100:\n",
    "    soma += i\n",
    "    i += 2\n",
    "\n",
    "\n",
    "print(f\"A soma de pares de 1 a 100 é: {soma}\")"
   ]
  },
  {
   "cell_type": "markdown",
   "metadata": {},
   "source": [
    "8. Crie um programa que receba palavras e agregue elas em um texto até que seja escrita a palavra PARE."
   ]
  },
  {
   "cell_type": "code",
   "execution_count": 2,
   "metadata": {},
   "outputs": [
    {
     "name": "stdout",
     "output_type": "stream",
     "text": [
      "\n",
      "Texto agregado: teste oi\n"
     ]
    }
   ],
   "source": [
    "texto = ''\n",
    "palavra = ''\n",
    "\n",
    "while palavra != 'PARE':\n",
    "    palavra = input(\"Digite uma palavra (ou 'PARE' para encerrar): \")\n",
    "    if palavra != 'PARE':\n",
    "        texto += palavra + ' '\n",
    "        \n",
    "print(f\"\\nTexto agregado: {texto.strip()}\")"
   ]
  }
 ],
 "metadata": {
  "kernelspec": {
   "display_name": "Python 3 (ipykernel)",
   "language": "python",
   "name": "python3"
  },
  "language_info": {
   "codemirror_mode": {
    "name": "ipython",
    "version": 3
   },
   "file_extension": ".py",
   "mimetype": "text/x-python",
   "name": "python",
   "nbconvert_exporter": "python",
   "pygments_lexer": "ipython3",
   "version": "3.10.4"
  },
  "latex_envs": {
   "LaTeX_envs_menu_present": true,
   "autoclose": false,
   "autocomplete": true,
   "bibliofile": "biblio.bib",
   "cite_by": "apalike",
   "current_citInitial": 1,
   "eqLabelWithNumbers": true,
   "eqNumInitial": 1,
   "hotkeys": {
    "equation": "Ctrl-E",
    "itemize": "Ctrl-I"
   },
   "labels_anchors": false,
   "latex_user_defs": false,
   "report_style_numbering": false,
   "user_envs_cfg": false
  },
  "toc": {
   "base_numbering": 1,
   "nav_menu": {},
   "number_sections": true,
   "sideBar": true,
   "skip_h1_title": false,
   "title_cell": "Table of Contents",
   "title_sidebar": "Contents",
   "toc_cell": false,
   "toc_position": {},
   "toc_section_display": true,
   "toc_window_display": false
  },
  "varInspector": {
   "cols": {
    "lenName": 16,
    "lenType": 16,
    "lenVar": 40
   },
   "kernels_config": {
    "python": {
     "delete_cmd_postfix": "",
     "delete_cmd_prefix": "del ",
     "library": "var_list.py",
     "varRefreshCmd": "print(var_dic_list())"
    },
    "r": {
     "delete_cmd_postfix": ") ",
     "delete_cmd_prefix": "rm(",
     "library": "var_list.r",
     "varRefreshCmd": "cat(var_dic_list()) "
    }
   },
   "types_to_exclude": [
    "module",
    "function",
    "builtin_function_or_method",
    "instance",
    "_Feature"
   ],
   "window_display": false
  },
  "vscode": {
   "interpreter": {
    "hash": "5c66de18c091297d67c9a295278ca9503b5163a383fa85591c3cdb6daec33020"
   }
  }
 },
 "nbformat": 4,
 "nbformat_minor": 2
}
