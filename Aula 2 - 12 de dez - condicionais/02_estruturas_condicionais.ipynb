{
 "cells": [
  {
   "cell_type": "markdown",
   "id": "cd0d2122",
   "metadata": {},
   "source": [
    "Imagine que o critério de aprovação em uma escola seja a média superior a 7.0 e presença superior a 75%. Neste caso, o aluno precisa atender a ambos os critérios para ser aprovado. Se ele tirou uma ótima nota, mas faltou demais, será reprovado. Se ele compareceu a todas as aulas, mas teve notas baixas, idem."
   ]
  },
  {
   "cell_type": "code",
   "execution_count": null,
   "id": "457e4bb6",
   "metadata": {
    "ExecuteTime": {
     "end_time": "2023-06-27T22:19:46.818981Z",
     "start_time": "2023-06-27T22:19:42.499776Z"
    }
   },
   "outputs": [],
   "source": [
    "media = float(input('Insira a média do aluno: '))\n",
    "presenca = float(input('Insira a presença do aluno (0 - 1): '))\n",
    "\n",
    "aprovado_media = media >= 7.0\n",
    "aprovado_presenca = presenca >= 0.75\n",
    "\n",
    "print('Aluno aprovado média? ', aprovado_media)\n",
    "print('Aluno aprovado presença? ', aprovado_presenca)\n",
    "\n",
    "aprovado_final = aprovado_media and aprovado_presenca\n",
    "print('Aluno aprovado?', aprovado_final)"
   ]
  },
  {
   "cell_type": "code",
   "execution_count": null,
   "id": "8aae4fc4",
   "metadata": {},
   "outputs": [],
   "source": [
    "media = float(input('Insira a média do aluno: '))\n",
    "presenca = float(input('Insira a presença do aluno (0 - 1): '))\n",
    "\n",
    "aprovado_media = media >= 7.0\n",
    "aprovado_presenca = presenca >= 0.75\n",
    "\n",
    "aprovado_final = aprovado_media and aprovado_presenca\n",
    "\n",
    "if aprovado_final:\n",
    "    print('Aluno aprovado')\n",
    "\n",
    "print('Feliz ano novo!')"
   ]
  },
  {
   "cell_type": "code",
   "execution_count": null,
   "id": "9cf74414",
   "metadata": {},
   "outputs": [],
   "source": [
    "aprovado_media = True\n",
    "aprovado_presenca = True\n",
    "aprovado_final = aprovado_media and aprovado_presenca\n",
    "\n",
    "if aprovado_media:\n",
    "    print('Você foi aprovado pela média')\n",
    "\n",
    "if aprovado_presenca:\n",
    "    print('Você foi aprovado pela presença')\n",
    "\n",
    "if aprovado_final:\n",
    "    print('Aluno aprovado!')"
   ]
  },
  {
   "cell_type": "code",
   "execution_count": null,
   "id": "bf241bee",
   "metadata": {},
   "outputs": [],
   "source": [
    "nota_prova_1 = 1\n",
    "nota_prova_2 = 4\n",
    "\n",
    "media = (nota_prova_1 + nota_prova_2) / 2\n",
    "\n",
    "print(f'Média: {media}')\n",
    "if media >= 7.0 and nota_prova_1 > 5 and nota_prova_2 > 5:\n",
    "    print('Aluno aprovado!')\n",
    "elif media >= 5:\n",
    "    print('Aluno em recuperação')\n",
    "elif media >= 4.5:\n",
    "    print('Foi quase lá, mas reprovou')\n",
    "else:\n",
    "    print(\"ZPEE\")\n",
    "\n",
    "print('Sair da execução das condições')"
   ]
  },
  {
   "cell_type": "markdown",
   "id": "7c713fe7",
   "metadata": {},
   "source": [
    "## Bora praticar!"
   ]
  },
  {
   "cell_type": "markdown",
   "id": "221bc557",
   "metadata": {},
   "source": [
    "1) Faça um programa que peça a idade do usuário e imprima se ele é maior ou menor de 18 anos."
   ]
  },
  {
   "cell_type": "code",
   "execution_count": null,
   "id": "3ee80027",
   "metadata": {
    "ExecuteTime": {
     "end_time": "2023-06-28T01:13:35.677927Z",
     "start_time": "2023-06-28T01:13:33.710669Z"
    }
   },
   "outputs": [],
   "source": [
    "idade = int(input('Insira a sua idade: '))\n",
    "\n",
    "if idade >= 18: \n",
    "    print('O usuário é maior de 18 anos') \n",
    "else: \n",
    "    print('O usuário é menor de 18 anos')"
   ]
  },
  {
   "cell_type": "markdown",
   "id": "20204a13",
   "metadata": {},
   "source": [
    "2) Faça um programa que peça um número e mostre se ele é positivo ou negativo. Alternativa: acrescentar nulo"
   ]
  },
  {
   "cell_type": "code",
   "execution_count": null,
   "id": "e65cca82",
   "metadata": {
    "ExecuteTime": {
     "end_time": "2023-06-28T01:14:45.484713Z",
     "start_time": "2023-06-28T01:14:44.068893Z"
    }
   },
   "outputs": [],
   "source": [
    "numero = float(input('Insira um número: '))\n",
    "\n",
    "if numero > 0:\n",
    "    print('O número é positivo')\n",
    "elif numero == 0:\n",
    "    print('O número é nulo')\n",
    "else:\n",
    "    print('O número é negativo')"
   ]
  },
  {
   "cell_type": "markdown",
   "id": "83f073e8",
   "metadata": {},
   "source": [
    "3) Faça um programa que peça três números e mostre o maior deles."
   ]
  },
  {
   "cell_type": "code",
   "execution_count": null,
   "id": "41dbb8f3",
   "metadata": {
    "ExecuteTime": {
     "end_time": "2023-06-28T01:16:42.746565Z",
     "start_time": "2023-06-28T01:16:40.188732Z"
    }
   },
   "outputs": [],
   "source": [
    "# Remy alisson 8:54 PM\n",
    "x = float(input(\"Digite o primeiro número:\"))\n",
    "y = float(input(\"Digite o segundo número:\"))\n",
    "z = float(input(\"Digite o terceiro número:\"))\n",
    "\n",
    "if x > y and x > z:\n",
    "     maior = x\n",
    "elif y > x and y > z:\n",
    "     maior = y\n",
    "else:\n",
    "     maior = z\n",
    "print(f\"O maior número é: {maior}\")\n"
   ]
  },
  {
   "cell_type": "markdown",
   "id": "bfdf137f",
   "metadata": {
    "ExecuteTime": {
     "end_time": "2022-10-13T02:14:01.965819Z",
     "start_time": "2022-10-13T02:14:01.958839Z"
    }
   },
   "source": [
    "4) Faça um programa que leia a validade das informações:\n",
    "\n",
    "a. Idade: entre 0 e 150;\n",
    "\n",
    "b. Salário: maior que 0;\n",
    "\n",
    "c. Sexo: M, F ou Outro;\n",
    "\n",
    "O programa deve imprimir uma mensagem de erro para cada informação inválida."
   ]
  },
  {
   "cell_type": "code",
   "execution_count": null,
   "id": "a1a21ec4",
   "metadata": {
    "ExecuteTime": {
     "end_time": "2023-06-28T01:18:25.767941Z",
     "start_time": "2023-06-28T01:18:22.048148Z"
    }
   },
   "outputs": [],
   "source": [
    "idade = input(\"Me diga a idade: \")\n",
    "if not (0 <= int(idade) <= 150):\n",
    "    idade_valida = False\n",
    "    print(\"Idade Inválida\")\n",
    "else:\n",
    "    idade_valida = True\n",
    "\n",
    "salario = input(\"Me diga o salário: \")\n",
    "if int(salario) < 0:\n",
    "    salario_valido = False\n",
    "    print(\"Salário Inválido\")\n",
    "else:\n",
    "    salario_valido = True\n",
    "\n",
    "sexo = input(\"Me diga o sexo (M, F ou Outro): \").upper()\n",
    "if sexo != \"M\" and sexo != \"F\" and sexo != \"OUTRO\":\n",
    "    sexo_valido = False\n",
    "    print(\"Sexo Inválido\")\n",
    "else:\n",
    "    sexo_valido = True\n",
    "\n",
    "if idade_valida and salario_valido and sexo_valido:\n",
    "    print(\"Cadastro concluído com sucesso.\")\n",
    "else:\n",
    "    print(\"Dados incorretos.\")\n",
    "\n",
    "#print(f'{idade}, {salario}, {sexo}')\n"
   ]
  },
  {
   "cell_type": "markdown",
   "id": "4171857e",
   "metadata": {},
   "source": [
    "5) Escreva um programa que peça a nota de 3 provas de um aluno e verifique se ele passou ou não de ano.\n",
    "Obs.: O aluno irá passar de ano se sua média for maior que 6."
   ]
  },
  {
   "cell_type": "code",
   "execution_count": null,
   "id": "a9246029",
   "metadata": {
    "ExecuteTime": {
     "end_time": "2023-06-28T01:20:15.809663Z",
     "start_time": "2023-06-28T01:20:10.228765Z"
    }
   },
   "outputs": [],
   "source": [
    "nota_prova_1 = float(input('Digite a nota da prova 1'))\n",
    "nota_prova_2 = float(input('Digite a nota da prova 2'))\n",
    "nota_prova_3 = float(input('Digite a nota da prova 3'))\n",
    "\n",
    "media = (nota_prova_1 + nota_prova_2 + nota_prova_3) / 3\n",
    "\n",
    "print(f'Média: {media}')\n",
    "if media >= 6.0:\n",
    "    print('Aluno aprovado!')\n",
    "else:\n",
    "    print('Aluno reprovado')"
   ]
  },
  {
   "cell_type": "markdown",
   "id": "f23c8b47",
   "metadata": {},
   "source": [
    "6) Faça um programa que mostre uma questão de múltipla escolha com 5 opções (letras a, b, c, d, e). \n",
    "Sabendo a resposta certa, o programa deve receber a opção do usuário e informar a letra que o usuário marcou e se a resposta está certa ou errada."
   ]
  },
  {
   "cell_type": "code",
   "execution_count": null,
   "id": "755c8b37",
   "metadata": {
    "ExecuteTime": {
     "end_time": "2023-06-28T01:23:06.527251Z",
     "start_time": "2023-06-28T01:23:05.413019Z"
    }
   },
   "outputs": [],
   "source": [
    "\n",
    "pergunta = \"Qual é a soma de 2 + 3?\"\n",
    "opcoes = \"a) 3\\nb) 5\\nc) 7\\nd) 8\\ne) 10\" #USO DO \\N pra quebrar a linha\n",
    "\n",
    "# Resposta correta\n",
    "resposta_correta = \"b\"\n",
    "\n",
    "# Mostrar a pergunta e opções\n",
    "print(pergunta)\n",
    "print(opcoes)\n",
    "\n",
    "# Receber a resposta do usuário\n",
    "resposta_usuario = input(\"Escolha a opção correta (a, b, c, d ou e): \")\n",
    "\n",
    "# Verificar se a resposta está correta\n",
    "if resposta_usuario.lower() == resposta_correta:\n",
    "    print(\"Parabéns! Sua resposta está correta.\")\n",
    "else:\n",
    "    print(f\"Infelizmente, sua resposta está incorreta. A resposta correta é a opção {resposta_correta.upper()}.\")\n"
   ]
  },
  {
   "cell_type": "markdown",
   "id": "00edeaec",
   "metadata": {},
   "source": [
    "7)\n",
    "Vamos fazer um programa para verificar quem é o assassino de um crime. Para descobrir o assassino, \n",
    "a polícia faz um pequeno questionário com 5 perguntas \n",
    "onde a resposta só pode ser sim ou não:\n",
    "\n",
    "a. Mora perto da vítima?\n",
    "\n",
    "b. Já trabalhou com a vítima?\n",
    "\n",
    "c. Telefonou para a vítima?\n",
    "\n",
    "d. Esteve no local do crime?\n",
    "\n",
    "e. Devia para a vítima?\n",
    "\n",
    "Cada resposta sim dá um ponto para o suspeito. A polícia considera que os suspeitos com 5 pontos são os assassinos, com 4 a 3 pontos \n",
    "são cúmplices e 2 pontos são apenas suspeitos, necessitando outras investigações. Valores iguais ou abaixo de 1 são liberados.'''"
   ]
  },
  {
   "cell_type": "code",
   "execution_count": null,
   "id": "fa67925d",
   "metadata": {
    "ExecuteTime": {
     "end_time": "2023-06-28T01:29:32.268938Z",
     "start_time": "2023-06-28T01:29:26.252661Z"
    }
   },
   "outputs": [],
   "source": [
    "pontos = 0\n",
    "\n",
    "# Perguntas\n",
    "resposta_a = input(\"Mora perto da vítima? (sim/não): \")\n",
    "if resposta_a.lower() == \"sim\":\n",
    "    pontos += 1\n",
    "\n",
    "resposta_b = input(\"Já trabalhou com a vítima? (sim/não): \")\n",
    "if resposta_b.lower() == \"sim\":\n",
    "    pontos += 1\n",
    "\n",
    "resposta_c = input(\"Telefonou para a vítima? (sim/não): \")\n",
    "if resposta_c.lower() == \"sim\":\n",
    "    pontos += 1\n",
    "\n",
    "resposta_d = input(\"Esteve no local do crime? (sim/não): \")\n",
    "if resposta_d.lower() == \"sim\":\n",
    "    pontos += 1\n",
    "\n",
    "resposta_e = input(\"Devia para a vítima? (sim/não): \")\n",
    "if resposta_e.lower() == \"sim\":\n",
    "    pontos += 1\n",
    "\n",
    "# Verificar suspeição\n",
    "if pontos == 5:\n",
    "    print(\"Você é o assassino!\")\n",
    "elif 3 <= pontos <= 4:\n",
    "    print(\"Você é cúmplice!\")\n",
    "elif 1 <= pontos <= 2:\n",
    "    print(\"Você é suspeito e precisa de mais investigações.\")\n",
    "else:\n",
    "    print(\"Você está liberado.\")\n",
    "\n"
   ]
  },
  {
   "cell_type": "markdown",
   "id": "d68cb36b",
   "metadata": {
    "ExecuteTime": {
     "end_time": "2022-10-13T02:15:54.837527Z",
     "start_time": "2022-10-13T02:15:54.826530Z"
    }
   },
   "source": [
    "8) Um produto vai sofrer aumento de acordo com a Tabela 1 abaixo. Faça um programa que peça para o usuário digitar o valor do produto de acordo \n",
    "com o preço antigo e escreva uma das mensagens da Tabela 2, de acordo com o preço reajustado:\n",
    "\n",
    "Tabela 1\n",
    "\n",
    "| Preço Antigo         | % de aumento |\n",
    "|----------------------|--------------|\n",
    "| Até 50 reais         | 5%           |\n",
    "| Entre 50 e 100 reais | 10%          |\n",
    "| De 100 a 150 reais   | 13%          |\n",
    "| Acima de 150 reais   | 15%          |\n",
    "\n",
    "Tabela 2\n",
    "\n",
    "| Preço Novo            | Mensagem   |\n",
    "|-----------------------|------------|\n",
    "| Até 80 reais          | Barato     |\n",
    "| Entre 80 e 115 reais  | Razoável   |\n",
    "| Entre 115 e 150 reais | Normal     |\n",
    "| Entre 150 e 170 reais | Caro       |\n",
    "| Acima de 170 reais    | Muito Caro |"
   ]
  },
  {
   "cell_type": "code",
   "execution_count": null,
   "id": "cdba835c",
   "metadata": {
    "ExecuteTime": {
     "end_time": "2023-06-28T01:31:49.747147Z",
     "start_time": "2023-06-28T01:31:47.126121Z"
    }
   },
   "outputs": [],
   "source": [
    "preco_antigo = float(input(\"Digite o valor do produto: \"))\n",
    "\n",
    "# Determinar o percentual de aumento com base na Tabela 1\n",
    "if preco_antigo <= 50:\n",
    "    percentual_aumento = 5\n",
    "elif 50 < preco_antigo <= 100:\n",
    "    percentual_aumento = 10\n",
    "elif 100 < preco_antigo <= 150:\n",
    "    percentual_aumento = 13\n",
    "else:\n",
    "    percentual_aumento = 15\n",
    "\n",
    "# Calcular o preço novo\n",
    "preco_novo = preco_antigo * (1 + percentual_aumento / 100)\n",
    "\n",
    "# Determinar a mensagem com base na Tabela 2\n",
    "if preco_novo <= 80:\n",
    "    mensagem = \"Barato\"\n",
    "elif 80 < preco_novo <= 115:\n",
    "    mensagem = \"Razoável\"\n",
    "elif 115 < preco_novo <= 150:\n",
    "    mensagem = \"Normal\"\n",
    "elif 150 < preco_novo <= 170:\n",
    "    mensagem = \"Caro\"\n",
    "else:\n",
    "    mensagem = \"Muito Caro\"\n",
    "\n",
    "# Imprimir o resultado\n",
    "print(f\"O preço novo é R$ {preco_novo:.2f}. {mensagem}\")\n"
   ]
  },
  {
   "cell_type": "markdown",
   "id": "c372e30c",
   "metadata": {},
   "source": [
    "10. Faça um Programa que pergunte em que turno você estuda. Peça para digitar M-matutino ou V-Vespertino ou N- Noturno. Imprima a mensagem \"Bom Dia!\", \"Boa Tarde!\" ou \"Boa Noite!\" ou \"Valor Inválido!\", conforme o caso."
   ]
  },
  {
   "cell_type": "code",
   "execution_count": null,
   "id": "c69f9538",
   "metadata": {},
   "outputs": [],
   "source": [
    "turno = input('Digite M - Matutino, V - Vespertino ou N - Noturno').lower()\n",
    "\n",
    "if turno == 'm' or turno == 'matutino':\n",
    "    print('Bom dia!')\n",
    "elif turno == 'v' or turno == 'vespertino':\n",
    "    print('Boa tarde!')\n",
    "elif turno == 'n' or turno == 'noturno':\n",
    "    print('Boa noite!')\n",
    "else:\n",
    "    print('Valor Inválido')"
   ]
  },
  {
   "cell_type": "markdown",
   "id": "abe7ef83",
   "metadata": {},
   "source": [
    "11. Crie um programa que receba um número e imprima \"fizz\" se o número for multiplo de 3, \"buzz\" se for multiplo de 5 e \"fizzbuzz\" se for multiplo de 3 e 5"
   ]
  },
  {
   "cell_type": "code",
   "execution_count": null,
   "id": "b41be0e1",
   "metadata": {},
   "outputs": [],
   "source": [
    "# Rem\n",
    "num = int(input(\"Digite um número: \"))\n",
    "\n",
    "if num % 3 == 0:\n",
    "    if num % 5 == 0:\n",
    "        print(\"fizzbuzz\")\n",
    "    else:\n",
    "        print(\"fizz\")\n",
    "elif num % 5 == 0:\n",
    "    print(\"buzz\")\n",
    "\n"
   ]
  },
  {
   "cell_type": "markdown",
   "id": "a8535bbc",
   "metadata": {},
   "source": [
    "12. Faça um Programa que leia um número e exiba o dia correspondente da semana. (1-Domingo, 2- Segunda, etc.), se digitar outro valor deve aparecer valor inválido."
   ]
  },
  {
   "cell_type": "code",
   "execution_count": null,
   "id": "c16333dc",
   "metadata": {},
   "outputs": [],
   "source": [
    "numero_da_semana = int(input('Digite um número da semana'))\n",
    "\n",
    "if numero_da_semana == 1:\n",
    "    print('Domingo')\n",
    "elif numero_da_semana == 2:\n",
    "    print('Segunda')\n",
    "elif numero_da_semana == 3:\n",
    "    print('Terça')\n",
    "# ..."
   ]
  },
  {
   "cell_type": "markdown",
   "id": "fc560bbc",
   "metadata": {},
   "source": [
    "13. Faça um programa que pergunte o preço de três produtos e informe qual produto você deve comprar, sabendo que a decisão é sempre pelo mais barato."
   ]
  },
  {
   "cell_type": "code",
   "execution_count": null,
   "id": "7c2d05ae",
   "metadata": {},
   "outputs": [],
   "source": [
    "# Rem\n",
    "x = float(input(\"Digite o valor médio da pizza:\"))\n",
    "y = float(input(\"Digite o valor médio do sorvete:\"))\n",
    "z = float(input(\"Digite o valor médio da sanduba:\"))\n",
    "\n",
    "if x < y and x < z:\n",
    "     menor = x\n",
    "     print(\"Compre a pizza\")\n",
    "elif y < x and y < z:\n",
    "     menor = y\n",
    "     print(\"Compre o sorvete\")\n",
    "else:\n",
    "     menor = z\n",
    "     print(f\"Compre a cerveja.\")"
   ]
  },
  {
   "cell_type": "markdown",
   "id": "9989468c",
   "metadata": {},
   "source": []
  }
 ],
 "metadata": {
  "kernelspec": {
   "display_name": "Python 3 (ipykernel)",
   "language": "python",
   "name": "python3"
  },
  "language_info": {
   "codemirror_mode": {
    "name": "ipython",
    "version": 3
   },
   "file_extension": ".py",
   "mimetype": "text/x-python",
   "name": "python",
   "nbconvert_exporter": "python",
   "pygments_lexer": "ipython3",
   "version": "3.10.4"
  },
  "latex_envs": {
   "LaTeX_envs_menu_present": true,
   "autoclose": false,
   "autocomplete": true,
   "bibliofile": "biblio.bib",
   "cite_by": "apalike",
   "current_citInitial": 1,
   "eqLabelWithNumbers": true,
   "eqNumInitial": 1,
   "hotkeys": {
    "equation": "Ctrl-E",
    "itemize": "Ctrl-I"
   },
   "labels_anchors": false,
   "latex_user_defs": false,
   "report_style_numbering": false,
   "user_envs_cfg": false
  },
  "toc": {
   "base_numbering": 1,
   "nav_menu": {},
   "number_sections": true,
   "sideBar": true,
   "skip_h1_title": false,
   "title_cell": "Table of Contents",
   "title_sidebar": "Contents",
   "toc_cell": false,
   "toc_position": {},
   "toc_section_display": true,
   "toc_window_display": false
  },
  "varInspector": {
   "cols": {
    "lenName": 16,
    "lenType": 16,
    "lenVar": 40
   },
   "kernels_config": {
    "python": {
     "delete_cmd_postfix": "",
     "delete_cmd_prefix": "del ",
     "library": "var_list.py",
     "varRefreshCmd": "print(var_dic_list())"
    },
    "r": {
     "delete_cmd_postfix": ") ",
     "delete_cmd_prefix": "rm(",
     "library": "var_list.r",
     "varRefreshCmd": "cat(var_dic_list()) "
    }
   },
   "types_to_exclude": [
    "module",
    "function",
    "builtin_function_or_method",
    "instance",
    "_Feature"
   ],
   "window_display": false
  },
  "vscode": {
   "interpreter": {
    "hash": "5c66de18c091297d67c9a295278ca9503b5163a383fa85591c3cdb6daec33020"
   }
  }
 },
 "nbformat": 4,
 "nbformat_minor": 5
}
