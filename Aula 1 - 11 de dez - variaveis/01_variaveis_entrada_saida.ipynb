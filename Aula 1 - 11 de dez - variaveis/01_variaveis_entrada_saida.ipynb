{
 "cells": [
  {
   "cell_type": "markdown",
   "id": "b86dca2d",
   "metadata": {},
   "source": [
    "**Bora praticar!**  \n",
    "Escreva um programa que receba seu nome, sua idade e hobby e escreva uma única sentença que seja, por exemplo, \"Meu nome é Henrique, tenho 22 anos e meu hobby é viajar\" "
   ]
  },
  {
   "cell_type": "code",
   "execution_count": null,
   "id": "27449eb9",
   "metadata": {},
   "outputs": [],
   "source": [
    "nome = str(input(\"Digite seu nome: \"))\n",
    "idade = int(input(\"Digite sua idade: \"))\n",
    "hobby = str(input(\"Digite seu hobby: \"))\n",
    "\n",
    "print(f\"Meu nome é {nome.capitalize()}, tenho {idade} anos e meu hobby é {hobby}\")"
   ]
  },
  {
   "cell_type": "markdown",
   "id": "22af0c46",
   "metadata": {},
   "source": [
    "**Bora praticar!**  \n",
    "Com tudo que vimos até o momento faça um programa que solicite ao usuário que insira seu ano de nascimento. Desconsiderando o mês do ano de nascimento, emita uma mensagem dizendo quantos anos ele possui."
   ]
  },
  {
   "cell_type": "code",
   "execution_count": null,
   "id": "6567ddb6",
   "metadata": {},
   "outputs": [],
   "source": [
    "from datetime import datetime\n",
    "ano_nascimento = int(input(\"Digite o ano de seu nascimento: \"))\n",
    "\n",
    "ano_atual = datetime.now().year\n",
    "\n",
    "# Calcular a idade\n",
    "idade = ano_atual - ano_nascimento\n",
    "\n",
    "# Exibir a mensagem com a idade\n",
    "print(\"Você possui\", idade, \"anos.\")\n",
    "\n",
    "#PROIBIDO USAR BIBLIOTECAS#\n"
   ]
  },
  {
   "cell_type": "markdown",
   "id": "7035e16d",
   "metadata": {},
   "source": [
    "**Bora praticar!**  \n",
    "Imagine que você está implementando um sistema para verificar se os alunos de uma turma estudantil passaram na disciplina ou não. Para isso solicite que o usuário insira as notas das 4 provas realizadas por um estudante e calcule a média. Após isso, emita uma resposta booleana (True ou False) se o estudante passou na disciplina pensando que a média mínima para aprovação é que seja pelo menos 5."
   ]
  },
  {
   "cell_type": "code",
   "execution_count": null,
   "id": "52d8a4e8",
   "metadata": {
    "scrolled": true
   },
   "outputs": [],
   "source": [
    "nota1 = float(input(\"Digite a primeira nota: \"))\n",
    "nota2 = float(input(\"Digite a segunda nota: \"))\n",
    "nota3 = float(input(\"Digite a terceira nota: \"))\n",
    "nota4 = float(input(\"Digite a quarta nota: \"))\n",
    "\n",
    "#calcular a média.\n",
    "media = (nota1 + nota2 + nota3 + nota4) / 4\n",
    "\n",
    "#verificação da média.\n",
    "notamin = 5.0\n",
    "aprovado = media >= notamin\n",
    "\n",
    "#Resultado\n",
    "print(f\"A média do aluno é {media:.2f}\") #2f ta falando que quero duas casas decimais.\n",
    "print(f\"O aluno {'passou' if aprovado else 'não passou'} na disciplina.\")\n",
    "\n",
    "#Verificar bool\n",
    "print(type(aprovado))\n",
    "print(aprovado)\n",
    "\n"
   ]
  },
  {
   "cell_type": "markdown",
   "id": "87f38384",
   "metadata": {},
   "source": [
    "Crie um algoritmo que calcule o IMC (índice de massa corporal). O IMC é calculado com a formula PESO/(ALTURA ^ 2). Para isso, coloque as informações nas variáveis e ao final apresente o resultado como no exemplo: \"O IMC é 18\""
   ]
  },
  {
   "cell_type": "code",
   "execution_count": null,
   "id": "f82ed11d",
   "metadata": {},
   "outputs": [],
   "source": [
    "peso = float(input(\"Digite seu peso: \"))\n",
    "altura = float(input(\"Digite a sua altura: \"))\n",
    "\n",
    "#calculo\n",
    "imc = peso/(altura**2)\n",
    "#resultado\n",
    "print(f'O IMC é {int(imc)}')\n"
   ]
  },
  {
   "cell_type": "markdown",
   "id": "6c0555dc",
   "metadata": {},
   "source": [
    "Escreva um algoritmo que calcule (x + y) * (x + y). Os valores de x e y devem ser inseridos pelo usuário"
   ]
  },
  {
   "cell_type": "code",
   "execution_count": null,
   "id": "ce94fc00",
   "metadata": {},
   "outputs": [],
   "source": [
    "x = float(input(\"Digite o valor de X: \"))\n",
    "y = float(input(\"Digite o valor de Y: \"))\n",
    "\n",
    "calculo = (x+y)*(x+y)\n",
    "\n",
    "print(calculo)"
   ]
  }
 ],
 "metadata": {
  "kernelspec": {
   "display_name": "Python 3 (ipykernel)",
   "language": "python",
   "name": "python3"
  },
  "language_info": {
   "codemirror_mode": {
    "name": "ipython",
    "version": 3
   },
   "file_extension": ".py",
   "mimetype": "text/x-python",
   "name": "python",
   "nbconvert_exporter": "python",
   "pygments_lexer": "ipython3",
   "version": "3.10.4"
  },
  "latex_envs": {
   "LaTeX_envs_menu_present": true,
   "autoclose": false,
   "autocomplete": true,
   "bibliofile": "biblio.bib",
   "cite_by": "apalike",
   "current_citInitial": 1,
   "eqLabelWithNumbers": true,
   "eqNumInitial": 1,
   "hotkeys": {
    "equation": "Ctrl-E",
    "itemize": "Ctrl-I"
   },
   "labels_anchors": false,
   "latex_user_defs": false,
   "report_style_numbering": false,
   "user_envs_cfg": false
  },
  "toc": {
   "base_numbering": 1,
   "nav_menu": {},
   "number_sections": true,
   "sideBar": true,
   "skip_h1_title": false,
   "title_cell": "Table of Contents",
   "title_sidebar": "Contents",
   "toc_cell": false,
   "toc_position": {},
   "toc_section_display": true,
   "toc_window_display": false
  },
  "varInspector": {
   "cols": {
    "lenName": 16,
    "lenType": 16,
    "lenVar": 40
   },
   "kernels_config": {
    "python": {
     "delete_cmd_postfix": "",
     "delete_cmd_prefix": "del ",
     "library": "var_list.py",
     "varRefreshCmd": "print(var_dic_list())"
    },
    "r": {
     "delete_cmd_postfix": ") ",
     "delete_cmd_prefix": "rm(",
     "library": "var_list.r",
     "varRefreshCmd": "cat(var_dic_list()) "
    }
   },
   "types_to_exclude": [
    "module",
    "function",
    "builtin_function_or_method",
    "instance",
    "_Feature"
   ],
   "window_display": false
  },
  "vscode": {
   "interpreter": {
    "hash": "5c66de18c091297d67c9a295278ca9503b5163a383fa85591c3cdb6daec33020"
   }
  }
 },
 "nbformat": 4,
 "nbformat_minor": 5
}
